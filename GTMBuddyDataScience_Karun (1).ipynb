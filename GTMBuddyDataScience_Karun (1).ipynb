{
  "nbformat": 4,
  "nbformat_minor": 0,
  "metadata": {
    "colab": {
      "provenance": []
    },
    "kernelspec": {
      "name": "python3",
      "display_name": "Python 3"
    },
    "language_info": {
      "name": "python"
    }
  },
  "cells": [
    {
      "cell_type": "markdown",
      "source": [
        "Task 1: Data Preparation & Multi-Label Text Classification\n"
      ],
      "metadata": {
        "id": "UrKDBdDxKPd3"
      }
    },
    {
      "cell_type": "code",
      "source": [
        "#imports for data analysis, visualization, etc\n",
        "\n",
        "import pandas as pd\n",
        "import numpy as np\n",
        "from google.colab import drive\n",
        "import json\n",
        "import re\n",
        "from sklearn.model_selection import train_test_split\n",
        "from sklearn.feature_extraction.text import TfidfVectorizer\n",
        "from sklearn.preprocessing import MultiLabelBinarizer\n",
        "from sklearn.multioutput import MultiOutputClassifier\n",
        "from sklearn.linear_model import LogisticRegression\n",
        "from sklearn.metrics import classification_report, confusion_matrix\n",
        "import nltk\n",
        "from nltk.corpus import stopwords\n",
        "from nltk.stem import WordNetLemmatizer\n",
        "import seaborn as sns\n",
        "import matplotlib.pyplot as plt"
      ],
      "metadata": {
        "id": "5-i89Z6G6UeH"
      },
      "execution_count": 22,
      "outputs": []
    },
    {
      "cell_type": "code",
      "source": [
        "#get required nltk resources for nlp\n",
        "nltk.download('punkt')\n",
        "nltk.download('stopwords')\n",
        "nltk.download('wordnet')\n",
        "nltk.download('punkt_tab')"
      ],
      "metadata": {
        "colab": {
          "base_uri": "https://localhost:8080/"
        },
        "id": "2n18D7Ve6rHP",
        "outputId": "c1518b54-8e65-417b-8e75-6f1d3438d451"
      },
      "execution_count": 23,
      "outputs": [
        {
          "output_type": "stream",
          "name": "stderr",
          "text": [
            "[nltk_data] Downloading package punkt to /root/nltk_data...\n",
            "[nltk_data]   Package punkt is already up-to-date!\n",
            "[nltk_data] Downloading package stopwords to /root/nltk_data...\n",
            "[nltk_data]   Package stopwords is already up-to-date!\n",
            "[nltk_data] Downloading package wordnet to /root/nltk_data...\n",
            "[nltk_data]   Package wordnet is already up-to-date!\n",
            "[nltk_data] Downloading package punkt_tab to /root/nltk_data...\n",
            "[nltk_data]   Package punkt_tab is already up-to-date!\n"
          ]
        },
        {
          "output_type": "execute_result",
          "data": {
            "text/plain": [
              "True"
            ]
          },
          "metadata": {},
          "execution_count": 23
        }
      ]
    },
    {
      "cell_type": "code",
      "source": [
        "#creation of domain knowledge dictionary\n",
        "domain_knowledge = {\n",
        "    \"competitors\": [\n",
        "        \"Tupac Solutions\", \"MosDef Analytics\", \"BiggyCorp\",\n",
        "        \"KDot Technologies\", \"JCole Corporation\", \"Nas and Co\"\n",
        "    ],\n",
        "    \"features\": [\n",
        "        \"analytics\", \"AI\", \"data pipeline\", \"machine learning\",\n",
        "        \"predictive modeling\", \"real-time reporting\", \"Big data\",\n",
        "        \"Regression and classification\", \"Natural language processing\"\n",
        "    ],\n",
        "    \"pricing_keywords\": [\n",
        "        \"discount\", \"renewal cost\", \"budget\", \"pricing model\",\n",
        "        \"cost-effective\", \"ROI\", \"constraints\", \"shareholder value\", \"profitability\"\n",
        "    ],\n",
        "    \"security_keywords\": [\n",
        "        \"CISSP\", \"CISA\", \"CISM\", \"CompTIA Security+\",\n",
        "        \"GSEC\", \"SSCP\", \"CASP+\", \"GCIH\"\n",
        "    ],\n",
        "    \"pain_points\": [\n",
        "        \"inefficient process\", \"data silos\", \"lack of insights\",\n",
        "        \"manual reporting\", \"scalability issues\", \"integration challenges\"\n",
        "    ],\n",
        "    \"objection_keywords\": [\n",
        "        \"too expensive\", \"not sure\", \"budget constraints\",\n",
        "        \"need approval\", \"complex implementation\", \"vendor lock-in\"\n",
        "    ],\n",
        "    \"decision_maker_roles\": [\n",
        "        \"CTO\", \"CIO\", \"CEO\", \"CFO\", \"VP of Technology\",\n",
        "        \"Head of Data\", \"Chief Data Officer\", \"IT Director\"\n",
        "    ],\n",
        "    \"success_indicators\": [\n",
        "        \"increased efficiency\", \"cost savings\", \"improved decision-making\",\n",
        "        \"competitive advantage\", \"streamlined operations\"\n",
        "    ],\n",
        "    \"industry_verticals\": [\n",
        "        \"finance\", \"healthcare\", \"tech\", \"retail\",\n",
        "        \"manufacturing\", \"telecommunications\", \"education\"\n",
        "    ],\n",
        "    \"purchasing_signals\": [\n",
        "        \"evaluating solutions\", \"current contract expiring\",\n",
        "        \"seeking improvements\", \"looking for alternatives\"\n",
        "    ],\n",
        "    \"technical_concerns\": [\n",
        "        \"data security\", \"compliance\", \"scalability\",\n",
        "        \"integration\", \"performance\", \"reliability\"\n",
        "    ]\n",
        "}\n",
        "\n",
        "#Removal of stop words and lemmatization using nltk\n",
        "stop_words = set(stopwords.words('english'))\n",
        "lemmatizer = WordNetLemmatizer()\n",
        "\n",
        "print(domain_knowledge)"
      ],
      "metadata": {
        "colab": {
          "base_uri": "https://localhost:8080/"
        },
        "id": "9ZD1GIVr_T0d",
        "outputId": "c2be8b84-b2a4-440e-de61-dca963526663"
      },
      "execution_count": 44,
      "outputs": [
        {
          "output_type": "stream",
          "name": "stdout",
          "text": [
            "{'competitors': ['Tupac Solutions', 'MosDef Analytics', 'BiggyCorp', 'KDot Technologies', 'JCole Corporation', 'Nas and Co'], 'features': ['analytics', 'AI', 'data pipeline', 'machine learning', 'predictive modeling', 'real-time reporting', 'Big data', 'Regression and classification', 'Natural language processing'], 'pricing_keywords': ['discount', 'renewal cost', 'budget', 'pricing model', 'cost-effective', 'ROI', 'constraints', 'shareholder value', 'profitability'], 'security_keywords': ['CISSP', 'CISA', 'CISM', 'CompTIA Security+', 'GSEC', 'SSCP', 'CASP+', 'GCIH'], 'pain_points': ['inefficient process', 'data silos', 'lack of insights', 'manual reporting', 'scalability issues', 'integration challenges'], 'objection_keywords': ['too expensive', 'not sure', 'budget constraints', 'need approval', 'complex implementation', 'vendor lock-in'], 'decision_maker_roles': ['CTO', 'CIO', 'CEO', 'CFO', 'VP of Technology', 'Head of Data', 'Chief Data Officer', 'IT Director'], 'success_indicators': ['increased efficiency', 'cost savings', 'improved decision-making', 'competitive advantage', 'streamlined operations'], 'industry_verticals': ['finance', 'healthcare', 'tech', 'retail', 'manufacturing', 'telecommunications', 'education'], 'purchasing_signals': ['evaluating solutions', 'current contract expiring', 'seeking improvements', 'looking for alternatives'], 'technical_concerns': ['data security', 'compliance', 'scalability', 'integration', 'performance', 'reliability']}\n"
          ]
        }
      ]
    },
    {
      "cell_type": "code",
      "source": [
        "import numpy as np\n",
        "import pandas as pd\n",
        "import json\n",
        "\n",
        "np.random.seed(42)\n",
        "labels_options = [\"Positive\", \"Pricing Discussion\", \"Objection\", \"Security\", \"Competition\", \"Technical Inquiry\", \"Industry Specific\"]\n",
        "\n",
        "data = []\n",
        "for i in range(200):  #dataset size\n",
        "    scenarios = [\n",
        "        f\"We're looking at solutions in the {np.random.choice(domain_knowledge['industry_verticals'])} sector. {np.random.choice(domain_knowledge['pain_points'])} is our main challenge.\",\n",
        "        f\"How do you address {np.random.choice(domain_knowledge['technical_concerns'])} for enterprise clients?\",\n",
        "        f\"Our {np.random.choice(domain_knowledge['decision_maker_roles'])} is interested in understanding {np.random.choice(domain_knowledge['success_indicators'])}.\",\n",
        "        f\"I'm seeing quotes from {np.random.choice(domain_knowledge['competitors'])}. What makes your solution different?\",\n",
        "        f\"We're experiencing {np.random.choice(domain_knowledge['pain_points'])} and need a robust solution.\",\n",
        "        f\"Currently {np.random.choice(domain_knowledge['purchasing_signals'])}. Can you walk me through your offering?\",\n",
        "        f\"Budget is tight. {np.random.choice(domain_knowledge['objection_keywords'])}.\",\n",
        "        f\"What {np.random.choice(domain_knowledge['features'])} can help us improve our current processes?\"\n",
        "    ]\n",
        "\n",
        "    snippet = np.random.choice(scenarios)\n",
        "\n",
        "    labels = []\n",
        "    if any(comp in snippet for comp in domain_knowledge['competitors']):\n",
        "        labels.append(\"Competition\")\n",
        "    if any(keyword in snippet.lower() for keyword in domain_knowledge['pricing_keywords'] + domain_knowledge['objection_keywords']):\n",
        "        labels.append(\"Pricing Discussion\")\n",
        "    if any(concern in snippet.lower() for concern in domain_knowledge['technical_concerns'] + domain_knowledge['security_keywords']):\n",
        "        labels.append(\"Technical Inquiry\")\n",
        "    if any(role in snippet for role in domain_knowledge['decision_maker_roles']):\n",
        "        labels.append(\"Decision Maker Interaction\")\n",
        "    if any(industry in snippet for industry in domain_knowledge['industry_verticals']):\n",
        "        labels.append(\"Industry Specific\")\n",
        "\n",
        "    if not labels:\n",
        "        labels = [\"Positive\"]\n",
        "\n",
        "    data.append({\n",
        "        'id': i+1,\n",
        "        'text_snippet': snippet,\n",
        "        'labels': ', '.join(set(labels))\n",
        "    })\n",
        "\n",
        "df = pd.DataFrame(data)\n",
        "df.to_csv('calls_dataset.csv', index=False)\n",
        "\n",
        "with open('domain_knowledge.json', 'w') as f:\n",
        "    json.dump(domain_knowledge, f, indent=2)\n",
        "\n",
        "print(f\"Dataset created with {len(data)} snippets\")"
      ],
      "metadata": {
        "colab": {
          "base_uri": "https://localhost:8080/"
        },
        "id": "imW2y7wB_lzK",
        "outputId": "6bd3fe72-4af0-4f20-ec61-6279729e90be"
      },
      "execution_count": 46,
      "outputs": [
        {
          "output_type": "stream",
          "name": "stdout",
          "text": [
            "Dataset created with 200 snippets\n"
          ]
        }
      ]
    },
    {
      "cell_type": "code",
      "source": [
        "def text_cleaner(text):\n",
        "    text = text.lower()\n",
        "    text = re.sub(r'[^a-zA-Z\\s]', '', text)\n",
        "    tokens = nltk.word_tokenize(text)\n",
        "\n",
        "    cleaned_tokens = [\n",
        "        lemmatizer.lemmatize(token)\n",
        "        for token in tokens\n",
        "        if token not in stop_words\n",
        "    ]\n",
        "\n",
        "    return ' '.join(cleaned_tokens)\n"
      ],
      "metadata": {
        "id": "hmAvX5nOAfiL"
      },
      "execution_count": 47,
      "outputs": []
    },
    {
      "cell_type": "code",
      "source": [
        "df = pd.DataFrame(data)\n",
        "df['processed_text'] = df['text_snippet'].apply(text_cleaner)\n",
        "\n",
        "#Prepare Multi-Label Classification\n",
        "mlb = MultiLabelBinarizer()\n",
        "df['label_list'] = df['labels'].str.split(', ')\n",
        "y = mlb.fit_transform(df['label_list'])\n",
        "\n",
        "vectorizer = TfidfVectorizer(max_features=1000)\n",
        "X = vectorizer.fit_transform(df['processed_text'])"
      ],
      "metadata": {
        "id": "7cD9x4LyEBrn"
      },
      "execution_count": 48,
      "outputs": []
    },
    {
      "cell_type": "code",
      "source": [
        "#Train-Test Split\n",
        "X_train, X_test, y_train, y_test = train_test_split(X, y, test_size=0.2, random_state=42)"
      ],
      "metadata": {
        "id": "wgLyE3X4IxDX"
      },
      "execution_count": 49,
      "outputs": []
    },
    {
      "cell_type": "code",
      "source": [
        "#Model Training\n",
        "classifier = MultiOutputClassifier(LogisticRegression(max_iter=1000))\n",
        "classifier.fit(X_train, y_train)"
      ],
      "metadata": {
        "colab": {
          "base_uri": "https://localhost:8080/",
          "height": 166
        },
        "id": "_FJbCFcxIzWB",
        "outputId": "44e0790d-bfb2-4867-dc9c-173f08c4cf70"
      },
      "execution_count": 50,
      "outputs": [
        {
          "output_type": "execute_result",
          "data": {
            "text/plain": [
              "MultiOutputClassifier(estimator=LogisticRegression(max_iter=1000))"
            ],
            "text/html": [
              "<style>#sk-container-id-2 {\n",
              "  /* Definition of color scheme common for light and dark mode */\n",
              "  --sklearn-color-text: #000;\n",
              "  --sklearn-color-text-muted: #666;\n",
              "  --sklearn-color-line: gray;\n",
              "  /* Definition of color scheme for unfitted estimators */\n",
              "  --sklearn-color-unfitted-level-0: #fff5e6;\n",
              "  --sklearn-color-unfitted-level-1: #f6e4d2;\n",
              "  --sklearn-color-unfitted-level-2: #ffe0b3;\n",
              "  --sklearn-color-unfitted-level-3: chocolate;\n",
              "  /* Definition of color scheme for fitted estimators */\n",
              "  --sklearn-color-fitted-level-0: #f0f8ff;\n",
              "  --sklearn-color-fitted-level-1: #d4ebff;\n",
              "  --sklearn-color-fitted-level-2: #b3dbfd;\n",
              "  --sklearn-color-fitted-level-3: cornflowerblue;\n",
              "\n",
              "  /* Specific color for light theme */\n",
              "  --sklearn-color-text-on-default-background: var(--sg-text-color, var(--theme-code-foreground, var(--jp-content-font-color1, black)));\n",
              "  --sklearn-color-background: var(--sg-background-color, var(--theme-background, var(--jp-layout-color0, white)));\n",
              "  --sklearn-color-border-box: var(--sg-text-color, var(--theme-code-foreground, var(--jp-content-font-color1, black)));\n",
              "  --sklearn-color-icon: #696969;\n",
              "\n",
              "  @media (prefers-color-scheme: dark) {\n",
              "    /* Redefinition of color scheme for dark theme */\n",
              "    --sklearn-color-text-on-default-background: var(--sg-text-color, var(--theme-code-foreground, var(--jp-content-font-color1, white)));\n",
              "    --sklearn-color-background: var(--sg-background-color, var(--theme-background, var(--jp-layout-color0, #111)));\n",
              "    --sklearn-color-border-box: var(--sg-text-color, var(--theme-code-foreground, var(--jp-content-font-color1, white)));\n",
              "    --sklearn-color-icon: #878787;\n",
              "  }\n",
              "}\n",
              "\n",
              "#sk-container-id-2 {\n",
              "  color: var(--sklearn-color-text);\n",
              "}\n",
              "\n",
              "#sk-container-id-2 pre {\n",
              "  padding: 0;\n",
              "}\n",
              "\n",
              "#sk-container-id-2 input.sk-hidden--visually {\n",
              "  border: 0;\n",
              "  clip: rect(1px 1px 1px 1px);\n",
              "  clip: rect(1px, 1px, 1px, 1px);\n",
              "  height: 1px;\n",
              "  margin: -1px;\n",
              "  overflow: hidden;\n",
              "  padding: 0;\n",
              "  position: absolute;\n",
              "  width: 1px;\n",
              "}\n",
              "\n",
              "#sk-container-id-2 div.sk-dashed-wrapped {\n",
              "  border: 1px dashed var(--sklearn-color-line);\n",
              "  margin: 0 0.4em 0.5em 0.4em;\n",
              "  box-sizing: border-box;\n",
              "  padding-bottom: 0.4em;\n",
              "  background-color: var(--sklearn-color-background);\n",
              "}\n",
              "\n",
              "#sk-container-id-2 div.sk-container {\n",
              "  /* jupyter's `normalize.less` sets `[hidden] { display: none; }`\n",
              "     but bootstrap.min.css set `[hidden] { display: none !important; }`\n",
              "     so we also need the `!important` here to be able to override the\n",
              "     default hidden behavior on the sphinx rendered scikit-learn.org.\n",
              "     See: https://github.com/scikit-learn/scikit-learn/issues/21755 */\n",
              "  display: inline-block !important;\n",
              "  position: relative;\n",
              "}\n",
              "\n",
              "#sk-container-id-2 div.sk-text-repr-fallback {\n",
              "  display: none;\n",
              "}\n",
              "\n",
              "div.sk-parallel-item,\n",
              "div.sk-serial,\n",
              "div.sk-item {\n",
              "  /* draw centered vertical line to link estimators */\n",
              "  background-image: linear-gradient(var(--sklearn-color-text-on-default-background), var(--sklearn-color-text-on-default-background));\n",
              "  background-size: 2px 100%;\n",
              "  background-repeat: no-repeat;\n",
              "  background-position: center center;\n",
              "}\n",
              "\n",
              "/* Parallel-specific style estimator block */\n",
              "\n",
              "#sk-container-id-2 div.sk-parallel-item::after {\n",
              "  content: \"\";\n",
              "  width: 100%;\n",
              "  border-bottom: 2px solid var(--sklearn-color-text-on-default-background);\n",
              "  flex-grow: 1;\n",
              "}\n",
              "\n",
              "#sk-container-id-2 div.sk-parallel {\n",
              "  display: flex;\n",
              "  align-items: stretch;\n",
              "  justify-content: center;\n",
              "  background-color: var(--sklearn-color-background);\n",
              "  position: relative;\n",
              "}\n",
              "\n",
              "#sk-container-id-2 div.sk-parallel-item {\n",
              "  display: flex;\n",
              "  flex-direction: column;\n",
              "}\n",
              "\n",
              "#sk-container-id-2 div.sk-parallel-item:first-child::after {\n",
              "  align-self: flex-end;\n",
              "  width: 50%;\n",
              "}\n",
              "\n",
              "#sk-container-id-2 div.sk-parallel-item:last-child::after {\n",
              "  align-self: flex-start;\n",
              "  width: 50%;\n",
              "}\n",
              "\n",
              "#sk-container-id-2 div.sk-parallel-item:only-child::after {\n",
              "  width: 0;\n",
              "}\n",
              "\n",
              "/* Serial-specific style estimator block */\n",
              "\n",
              "#sk-container-id-2 div.sk-serial {\n",
              "  display: flex;\n",
              "  flex-direction: column;\n",
              "  align-items: center;\n",
              "  background-color: var(--sklearn-color-background);\n",
              "  padding-right: 1em;\n",
              "  padding-left: 1em;\n",
              "}\n",
              "\n",
              "\n",
              "/* Toggleable style: style used for estimator/Pipeline/ColumnTransformer box that is\n",
              "clickable and can be expanded/collapsed.\n",
              "- Pipeline and ColumnTransformer use this feature and define the default style\n",
              "- Estimators will overwrite some part of the style using the `sk-estimator` class\n",
              "*/\n",
              "\n",
              "/* Pipeline and ColumnTransformer style (default) */\n",
              "\n",
              "#sk-container-id-2 div.sk-toggleable {\n",
              "  /* Default theme specific background. It is overwritten whether we have a\n",
              "  specific estimator or a Pipeline/ColumnTransformer */\n",
              "  background-color: var(--sklearn-color-background);\n",
              "}\n",
              "\n",
              "/* Toggleable label */\n",
              "#sk-container-id-2 label.sk-toggleable__label {\n",
              "  cursor: pointer;\n",
              "  display: flex;\n",
              "  width: 100%;\n",
              "  margin-bottom: 0;\n",
              "  padding: 0.5em;\n",
              "  box-sizing: border-box;\n",
              "  text-align: center;\n",
              "  align-items: start;\n",
              "  justify-content: space-between;\n",
              "  gap: 0.5em;\n",
              "}\n",
              "\n",
              "#sk-container-id-2 label.sk-toggleable__label .caption {\n",
              "  font-size: 0.6rem;\n",
              "  font-weight: lighter;\n",
              "  color: var(--sklearn-color-text-muted);\n",
              "}\n",
              "\n",
              "#sk-container-id-2 label.sk-toggleable__label-arrow:before {\n",
              "  /* Arrow on the left of the label */\n",
              "  content: \"▸\";\n",
              "  float: left;\n",
              "  margin-right: 0.25em;\n",
              "  color: var(--sklearn-color-icon);\n",
              "}\n",
              "\n",
              "#sk-container-id-2 label.sk-toggleable__label-arrow:hover:before {\n",
              "  color: var(--sklearn-color-text);\n",
              "}\n",
              "\n",
              "/* Toggleable content - dropdown */\n",
              "\n",
              "#sk-container-id-2 div.sk-toggleable__content {\n",
              "  max-height: 0;\n",
              "  max-width: 0;\n",
              "  overflow: hidden;\n",
              "  text-align: left;\n",
              "  /* unfitted */\n",
              "  background-color: var(--sklearn-color-unfitted-level-0);\n",
              "}\n",
              "\n",
              "#sk-container-id-2 div.sk-toggleable__content.fitted {\n",
              "  /* fitted */\n",
              "  background-color: var(--sklearn-color-fitted-level-0);\n",
              "}\n",
              "\n",
              "#sk-container-id-2 div.sk-toggleable__content pre {\n",
              "  margin: 0.2em;\n",
              "  border-radius: 0.25em;\n",
              "  color: var(--sklearn-color-text);\n",
              "  /* unfitted */\n",
              "  background-color: var(--sklearn-color-unfitted-level-0);\n",
              "}\n",
              "\n",
              "#sk-container-id-2 div.sk-toggleable__content.fitted pre {\n",
              "  /* unfitted */\n",
              "  background-color: var(--sklearn-color-fitted-level-0);\n",
              "}\n",
              "\n",
              "#sk-container-id-2 input.sk-toggleable__control:checked~div.sk-toggleable__content {\n",
              "  /* Expand drop-down */\n",
              "  max-height: 200px;\n",
              "  max-width: 100%;\n",
              "  overflow: auto;\n",
              "}\n",
              "\n",
              "#sk-container-id-2 input.sk-toggleable__control:checked~label.sk-toggleable__label-arrow:before {\n",
              "  content: \"▾\";\n",
              "}\n",
              "\n",
              "/* Pipeline/ColumnTransformer-specific style */\n",
              "\n",
              "#sk-container-id-2 div.sk-label input.sk-toggleable__control:checked~label.sk-toggleable__label {\n",
              "  color: var(--sklearn-color-text);\n",
              "  background-color: var(--sklearn-color-unfitted-level-2);\n",
              "}\n",
              "\n",
              "#sk-container-id-2 div.sk-label.fitted input.sk-toggleable__control:checked~label.sk-toggleable__label {\n",
              "  background-color: var(--sklearn-color-fitted-level-2);\n",
              "}\n",
              "\n",
              "/* Estimator-specific style */\n",
              "\n",
              "/* Colorize estimator box */\n",
              "#sk-container-id-2 div.sk-estimator input.sk-toggleable__control:checked~label.sk-toggleable__label {\n",
              "  /* unfitted */\n",
              "  background-color: var(--sklearn-color-unfitted-level-2);\n",
              "}\n",
              "\n",
              "#sk-container-id-2 div.sk-estimator.fitted input.sk-toggleable__control:checked~label.sk-toggleable__label {\n",
              "  /* fitted */\n",
              "  background-color: var(--sklearn-color-fitted-level-2);\n",
              "}\n",
              "\n",
              "#sk-container-id-2 div.sk-label label.sk-toggleable__label,\n",
              "#sk-container-id-2 div.sk-label label {\n",
              "  /* The background is the default theme color */\n",
              "  color: var(--sklearn-color-text-on-default-background);\n",
              "}\n",
              "\n",
              "/* On hover, darken the color of the background */\n",
              "#sk-container-id-2 div.sk-label:hover label.sk-toggleable__label {\n",
              "  color: var(--sklearn-color-text);\n",
              "  background-color: var(--sklearn-color-unfitted-level-2);\n",
              "}\n",
              "\n",
              "/* Label box, darken color on hover, fitted */\n",
              "#sk-container-id-2 div.sk-label.fitted:hover label.sk-toggleable__label.fitted {\n",
              "  color: var(--sklearn-color-text);\n",
              "  background-color: var(--sklearn-color-fitted-level-2);\n",
              "}\n",
              "\n",
              "/* Estimator label */\n",
              "\n",
              "#sk-container-id-2 div.sk-label label {\n",
              "  font-family: monospace;\n",
              "  font-weight: bold;\n",
              "  display: inline-block;\n",
              "  line-height: 1.2em;\n",
              "}\n",
              "\n",
              "#sk-container-id-2 div.sk-label-container {\n",
              "  text-align: center;\n",
              "}\n",
              "\n",
              "/* Estimator-specific */\n",
              "#sk-container-id-2 div.sk-estimator {\n",
              "  font-family: monospace;\n",
              "  border: 1px dotted var(--sklearn-color-border-box);\n",
              "  border-radius: 0.25em;\n",
              "  box-sizing: border-box;\n",
              "  margin-bottom: 0.5em;\n",
              "  /* unfitted */\n",
              "  background-color: var(--sklearn-color-unfitted-level-0);\n",
              "}\n",
              "\n",
              "#sk-container-id-2 div.sk-estimator.fitted {\n",
              "  /* fitted */\n",
              "  background-color: var(--sklearn-color-fitted-level-0);\n",
              "}\n",
              "\n",
              "/* on hover */\n",
              "#sk-container-id-2 div.sk-estimator:hover {\n",
              "  /* unfitted */\n",
              "  background-color: var(--sklearn-color-unfitted-level-2);\n",
              "}\n",
              "\n",
              "#sk-container-id-2 div.sk-estimator.fitted:hover {\n",
              "  /* fitted */\n",
              "  background-color: var(--sklearn-color-fitted-level-2);\n",
              "}\n",
              "\n",
              "/* Specification for estimator info (e.g. \"i\" and \"?\") */\n",
              "\n",
              "/* Common style for \"i\" and \"?\" */\n",
              "\n",
              ".sk-estimator-doc-link,\n",
              "a:link.sk-estimator-doc-link,\n",
              "a:visited.sk-estimator-doc-link {\n",
              "  float: right;\n",
              "  font-size: smaller;\n",
              "  line-height: 1em;\n",
              "  font-family: monospace;\n",
              "  background-color: var(--sklearn-color-background);\n",
              "  border-radius: 1em;\n",
              "  height: 1em;\n",
              "  width: 1em;\n",
              "  text-decoration: none !important;\n",
              "  margin-left: 0.5em;\n",
              "  text-align: center;\n",
              "  /* unfitted */\n",
              "  border: var(--sklearn-color-unfitted-level-1) 1pt solid;\n",
              "  color: var(--sklearn-color-unfitted-level-1);\n",
              "}\n",
              "\n",
              ".sk-estimator-doc-link.fitted,\n",
              "a:link.sk-estimator-doc-link.fitted,\n",
              "a:visited.sk-estimator-doc-link.fitted {\n",
              "  /* fitted */\n",
              "  border: var(--sklearn-color-fitted-level-1) 1pt solid;\n",
              "  color: var(--sklearn-color-fitted-level-1);\n",
              "}\n",
              "\n",
              "/* On hover */\n",
              "div.sk-estimator:hover .sk-estimator-doc-link:hover,\n",
              ".sk-estimator-doc-link:hover,\n",
              "div.sk-label-container:hover .sk-estimator-doc-link:hover,\n",
              ".sk-estimator-doc-link:hover {\n",
              "  /* unfitted */\n",
              "  background-color: var(--sklearn-color-unfitted-level-3);\n",
              "  color: var(--sklearn-color-background);\n",
              "  text-decoration: none;\n",
              "}\n",
              "\n",
              "div.sk-estimator.fitted:hover .sk-estimator-doc-link.fitted:hover,\n",
              ".sk-estimator-doc-link.fitted:hover,\n",
              "div.sk-label-container:hover .sk-estimator-doc-link.fitted:hover,\n",
              ".sk-estimator-doc-link.fitted:hover {\n",
              "  /* fitted */\n",
              "  background-color: var(--sklearn-color-fitted-level-3);\n",
              "  color: var(--sklearn-color-background);\n",
              "  text-decoration: none;\n",
              "}\n",
              "\n",
              "/* Span, style for the box shown on hovering the info icon */\n",
              ".sk-estimator-doc-link span {\n",
              "  display: none;\n",
              "  z-index: 9999;\n",
              "  position: relative;\n",
              "  font-weight: normal;\n",
              "  right: .2ex;\n",
              "  padding: .5ex;\n",
              "  margin: .5ex;\n",
              "  width: min-content;\n",
              "  min-width: 20ex;\n",
              "  max-width: 50ex;\n",
              "  color: var(--sklearn-color-text);\n",
              "  box-shadow: 2pt 2pt 4pt #999;\n",
              "  /* unfitted */\n",
              "  background: var(--sklearn-color-unfitted-level-0);\n",
              "  border: .5pt solid var(--sklearn-color-unfitted-level-3);\n",
              "}\n",
              "\n",
              ".sk-estimator-doc-link.fitted span {\n",
              "  /* fitted */\n",
              "  background: var(--sklearn-color-fitted-level-0);\n",
              "  border: var(--sklearn-color-fitted-level-3);\n",
              "}\n",
              "\n",
              ".sk-estimator-doc-link:hover span {\n",
              "  display: block;\n",
              "}\n",
              "\n",
              "/* \"?\"-specific style due to the `<a>` HTML tag */\n",
              "\n",
              "#sk-container-id-2 a.estimator_doc_link {\n",
              "  float: right;\n",
              "  font-size: 1rem;\n",
              "  line-height: 1em;\n",
              "  font-family: monospace;\n",
              "  background-color: var(--sklearn-color-background);\n",
              "  border-radius: 1rem;\n",
              "  height: 1rem;\n",
              "  width: 1rem;\n",
              "  text-decoration: none;\n",
              "  /* unfitted */\n",
              "  color: var(--sklearn-color-unfitted-level-1);\n",
              "  border: var(--sklearn-color-unfitted-level-1) 1pt solid;\n",
              "}\n",
              "\n",
              "#sk-container-id-2 a.estimator_doc_link.fitted {\n",
              "  /* fitted */\n",
              "  border: var(--sklearn-color-fitted-level-1) 1pt solid;\n",
              "  color: var(--sklearn-color-fitted-level-1);\n",
              "}\n",
              "\n",
              "/* On hover */\n",
              "#sk-container-id-2 a.estimator_doc_link:hover {\n",
              "  /* unfitted */\n",
              "  background-color: var(--sklearn-color-unfitted-level-3);\n",
              "  color: var(--sklearn-color-background);\n",
              "  text-decoration: none;\n",
              "}\n",
              "\n",
              "#sk-container-id-2 a.estimator_doc_link.fitted:hover {\n",
              "  /* fitted */\n",
              "  background-color: var(--sklearn-color-fitted-level-3);\n",
              "}\n",
              "</style><div id=\"sk-container-id-2\" class=\"sk-top-container\"><div class=\"sk-text-repr-fallback\"><pre>MultiOutputClassifier(estimator=LogisticRegression(max_iter=1000))</pre><b>In a Jupyter environment, please rerun this cell to show the HTML representation or trust the notebook. <br />On GitHub, the HTML representation is unable to render, please try loading this page with nbviewer.org.</b></div><div class=\"sk-container\" hidden><div class=\"sk-item sk-dashed-wrapped\"><div class=\"sk-label-container\"><div class=\"sk-label fitted sk-toggleable\"><input class=\"sk-toggleable__control sk-hidden--visually\" id=\"sk-estimator-id-4\" type=\"checkbox\" ><label for=\"sk-estimator-id-4\" class=\"sk-toggleable__label fitted sk-toggleable__label-arrow\"><div><div>MultiOutputClassifier</div></div><div><a class=\"sk-estimator-doc-link fitted\" rel=\"noreferrer\" target=\"_blank\" href=\"https://scikit-learn.org/1.6/modules/generated/sklearn.multioutput.MultiOutputClassifier.html\">?<span>Documentation for MultiOutputClassifier</span></a><span class=\"sk-estimator-doc-link fitted\">i<span>Fitted</span></span></div></label><div class=\"sk-toggleable__content fitted\"><pre>MultiOutputClassifier(estimator=LogisticRegression(max_iter=1000))</pre></div> </div></div><div class=\"sk-parallel\"><div class=\"sk-parallel-item\"><div class=\"sk-item\"><div class=\"sk-label-container\"><div class=\"sk-label fitted sk-toggleable\"><input class=\"sk-toggleable__control sk-hidden--visually\" id=\"sk-estimator-id-5\" type=\"checkbox\" ><label for=\"sk-estimator-id-5\" class=\"sk-toggleable__label fitted sk-toggleable__label-arrow\"><div><div>estimator: LogisticRegression</div></div></label><div class=\"sk-toggleable__content fitted\"><pre>LogisticRegression(max_iter=1000)</pre></div> </div></div><div class=\"sk-serial\"><div class=\"sk-item\"><div class=\"sk-estimator fitted sk-toggleable\"><input class=\"sk-toggleable__control sk-hidden--visually\" id=\"sk-estimator-id-6\" type=\"checkbox\" ><label for=\"sk-estimator-id-6\" class=\"sk-toggleable__label fitted sk-toggleable__label-arrow\"><div><div>LogisticRegression</div></div><div><a class=\"sk-estimator-doc-link fitted\" rel=\"noreferrer\" target=\"_blank\" href=\"https://scikit-learn.org/1.6/modules/generated/sklearn.linear_model.LogisticRegression.html\">?<span>Documentation for LogisticRegression</span></a></div></label><div class=\"sk-toggleable__content fitted\"><pre>LogisticRegression(max_iter=1000)</pre></div> </div></div></div></div></div></div></div></div></div>"
            ]
          },
          "metadata": {},
          "execution_count": 50
        }
      ]
    },
    {
      "cell_type": "code",
      "source": [
        "#Evaluation\n",
        "y_pred = classifier.predict(X_test)\n",
        "print(classification_report(y_test, y_pred, target_names=mlb.classes_))"
      ],
      "metadata": {
        "colab": {
          "base_uri": "https://localhost:8080/"
        },
        "id": "xnHf0-q-I2eJ",
        "outputId": "22f301f4-90fc-40e1-abbc-367505d2f4ee"
      },
      "execution_count": 51,
      "outputs": [
        {
          "output_type": "stream",
          "name": "stdout",
          "text": [
            "                            precision    recall  f1-score   support\n",
            "\n",
            "               Competition       1.00      1.00      1.00         5\n",
            "Decision Maker Interaction       1.00      1.00      1.00         2\n",
            "         Industry Specific       1.00      1.00      1.00         6\n",
            "                  Positive       1.00      1.00      1.00        16\n",
            "        Pricing Discussion       1.00      0.60      0.75         5\n",
            "         Technical Inquiry       1.00      0.60      0.75        10\n",
            "\n",
            "                 micro avg       1.00      0.86      0.93        44\n",
            "                 macro avg       1.00      0.87      0.92        44\n",
            "              weighted avg       1.00      0.86      0.91        44\n",
            "               samples avg       0.95      0.90      0.92        44\n",
            "\n"
          ]
        },
        {
          "output_type": "stream",
          "name": "stderr",
          "text": [
            "/usr/local/lib/python3.11/dist-packages/sklearn/metrics/_classification.py:1565: UndefinedMetricWarning: Precision is ill-defined and being set to 0.0 in samples with no predicted labels. Use `zero_division` parameter to control this behavior.\n",
            "  _warn_prf(average, modifier, f\"{metric.capitalize()} is\", len(result))\n"
          ]
        }
      ]
    },
    {
      "cell_type": "code",
      "source": [
        "#Label Correlation Visualization\n",
        "label_matrix = mlb.fit_transform(df['labels'].str.split(', '))\n",
        "label_correlation = np.corrcoef(label_matrix.T)\n",
        "\n",
        "plt.figure(figsize=(10, 8))\n",
        "sns.heatmap(label_correlation,\n",
        "            xticklabels=mlb.classes_,\n",
        "            yticklabels=mlb.classes_,\n",
        "            annot=True,\n",
        "            cmap='coolwarm')\n",
        "plt.title('Label Co-occurrence Correlation')\n",
        "plt.tight_layout()\n",
        "plt.show()"
      ],
      "metadata": {
        "colab": {
          "base_uri": "https://localhost:8080/",
          "height": 659
        },
        "id": "nsLmTYsyI5nJ",
        "outputId": "e9fe04dc-4c1d-4cf8-f774-58c0a87a9e13"
      },
      "execution_count": 52,
      "outputs": [
        {
          "output_type": "display_data",
          "data": {
            "text/plain": [
              "<Figure size 1000x800 with 2 Axes>"
            ],
            "image/png": "[encoded data removed]"
          },
          "metadata": {}
        }
      ]
    },
    {
      "cell_type": "code",
      "source": [
        "test_snippet = \"We're comparing your pricing with CompetitorX's solution\"\n",
        "preprocessed_test = text_cleaner(test_snippet)\n",
        "vectorized_test = vectorizer.transform([preprocessed_test])\n",
        "label_probs = classifier.predict_proba(vectorized_test)[0]\n",
        "labels_indices = np.where(label_probs > 0.5)[0]\n",
        "predicted_labels = mlb.classes_[labels_indices]\n",
        "\n",
        "print(f\"Test Snippet: {test_snippet}\")\n",
        "print(f\"Predicted Labels: {list(predicted_labels)}\")"
      ],
      "metadata": {
        "colab": {
          "base_uri": "https://localhost:8080/"
        },
        "id": "u8q_emTJJQWV",
        "outputId": "c7945388-e5a8-4047-e5ca-7c64a893ff19"
      },
      "execution_count": 53,
      "outputs": [
        {
          "output_type": "stream",
          "name": "stdout",
          "text": [
            "Test Snippet: We're comparing your pricing with CompetitorX's solution\n",
            "Predicted Labels: ['Competition']\n"
          ]
        }
      ]
    },
    {
      "cell_type": "markdown",
      "source": [
        "Task 2: Entity/Keyword Extraction with a Domain Knowledge Base"
      ],
      "metadata": {
        "id": "xRd7F3F4KnP6"
      }
    },
    {
      "cell_type": "code",
      "source": [
        "#importing relevanmt imports\n",
        "import pandas as pd\n",
        "import spacy\n",
        "import json\n",
        "import re\n",
        "from typing import List, Dict, Tuple"
      ],
      "metadata": {
        "id": "eFo8xsVKK0HR"
      },
      "execution_count": 54,
      "outputs": []
    },
    {
      "cell_type": "code",
      "source": [
        "#Load domain knowledge\n",
        "with open('domain_knowledge.json', 'r') as f:\n",
        "    domain_knowledge = json.load(f)\n",
        "\n",
        "#Load spaCy model\n",
        "nlp = spacy.load('en_core_web_sm')"
      ],
      "metadata": {
        "id": "8679P9CCK5_U"
      },
      "execution_count": 55,
      "outputs": []
    },
    {
      "cell_type": "code",
      "source": [
        "#Compile regex patterns for domain-specific extraction\n",
        "competitors_pattern = r'\\b(' + '|'.join(re.escape(comp) for comp in domain_knowledge['competitors']) + r')\\b'\n",
        "features_pattern = r'\\b(' + '|'.join(re.escape(feat) for feat in domain_knowledge['features']) + r')\\b'\n",
        "pricing_pattern = r'\\b(' + '|'.join(re.escape(kw) for kw in domain_knowledge['pricing_keywords']) + r')\\b'\n",
        "security_pattern = r'\\b(' + '|'.join(re.escape(sec) for sec in domain_knowledge['security_keywords']) + r')\\b'\n",
        "pain_points_pattern = r'\\b(' + '|'.join(re.escape(point) for point in domain_knowledge['pain_points']) + r')\\b'\n",
        "industry_pattern = r'\\b(' + '|'.join(re.escape(ind) for ind in domain_knowledge['industry_verticals']) + r')\\b'\n",
        "decision_maker_pattern = r'\\b(' + '|'.join(re.escape(role) for role in domain_knowledge['decision_maker_roles']) + r')\\b'\n",
        "technical_concerns_pattern = r'\\b(' + '|'.join(re.escape(concern) for concern in domain_knowledge['technical_concerns']) + r')\\b'\n",
        "\n",
        "patterns = {\n",
        "    'competitors': re.compile(competitors_pattern, re.IGNORECASE),\n",
        "    'features': re.compile(features_pattern, re.IGNORECASE),\n",
        "    'pricing': re.compile(pricing_pattern, re.IGNORECASE),\n",
        "    'security': re.compile(security_pattern, re.IGNORECASE),\n",
        "    'pain_points': re.compile(pain_points_pattern, re.IGNORECASE),\n",
        "    'industries': re.compile(industry_pattern, re.IGNORECASE),\n",
        "    'decision_makers': re.compile(decision_maker_pattern, re.IGNORECASE),\n",
        "    'technical_concerns': re.compile(technical_concerns_pattern, re.IGNORECASE)\n",
        "}"
      ],
      "metadata": {
        "id": "qa6YzxJ3LIwK"
      },
      "execution_count": 56,
      "outputs": []
    },
    {
      "cell_type": "code",
      "source": [
        "#Read dataset\n",
        "df = pd.read_csv('calls_dataset.csv')"
      ],
      "metadata": {
        "id": "t20cw4CTLmYb"
      },
      "execution_count": 40,
      "outputs": []
    },
    {
      "cell_type": "code",
      "source": [
        "for index, row in df.iterrows():\n",
        "    text = str(row['text_snippet'])\n",
        "\n",
        "    # Domain-specific entity extraction\n",
        "    domain_entities = {\n",
        "        'competitors': patterns['competitors'].findall(text),\n",
        "        'features': patterns['features'].findall(text),\n",
        "        'pricing_keywords': patterns['pricing'].findall(text),\n",
        "        'security_keywords': patterns['security'].findall(text),\n",
        "        'pain_points': patterns['pain_points'].findall(text),\n",
        "        'industries': patterns['industries'].findall(text),\n",
        "        'decision_makers': patterns['decision_makers'].findall(text),\n",
        "        'technical_concerns': patterns['technical_concerns'].findall(text)\n",
        "    }\n",
        "    domain_entities = {k: v for k, v in domain_entities.items() if v}\n",
        "\n",
        "    #SpaCy NER entity extraction\n",
        "    doc = nlp(text)\n",
        "    ner_entities = {\n",
        "        'PERSON': [ent.text for ent in doc.ents if ent.label_ == 'PERSON'],\n",
        "        'ORG': [ent.text for ent in doc.ents if ent.label_ == 'ORG'],\n",
        "        'GPE': [ent.text for ent in doc.ents if ent.label_ == 'GPE']\n",
        "    }\n",
        "    ner_entities = {k: v for k, v in ner_entities.items() if v}\n",
        "\n",
        "    #Combine entities\n",
        "    combined_entities = {**domain_entities, **ner_entities}\n",
        "\n",
        "    #Add entities to dataframe\n",
        "    df.at[index, 'extracted_entities'] = json.dumps(combined_entities)"
      ],
      "metadata": {
        "id": "x70b05oTLyx1"
      },
      "execution_count": 58,
      "outputs": []
    },
    {
      "cell_type": "code",
      "source": [
        "#Save processed dataset\n",
        "df.to_csv('calls_dataset_with_entities.csv', index=False)"
      ],
      "metadata": {
        "id": "7_ep5RZ_MHcy"
      },
      "execution_count": 59,
      "outputs": []
    },
    {
      "cell_type": "code",
      "source": [
        "#Evaluation\n",
        "total_snippets = len(df)\n",
        "snippets_with_entities = sum(len(json.loads(entities)) > 0 for entities in df['extracted_entities'])\n",
        "coverage = snippets_with_entities / total_snippets\n",
        "\n",
        "print(\"Entity Extraction Evaluation:\")\n",
        "print(f\"Total Snippets: {total_snippets}\")\n",
        "print(f\"Snippets with Entities: {snippets_with_entities}\")\n",
        "print(f\"Coverage: {coverage:.2%}\")"
      ],
      "metadata": {
        "colab": {
          "base_uri": "https://localhost:8080/"
        },
        "id": "ZMSzp7c4KvHj",
        "outputId": "ad9d72de-6448-42ce-aaa5-3a2e16baab6d"
      },
      "execution_count": 60,
      "outputs": [
        {
          "output_type": "stream",
          "name": "stdout",
          "text": [
            "Entity Extraction Evaluation:\n",
            "Total Snippets: 200\n",
            "Snippets with Entities: 181\n",
            "Coverage: 90.50%\n"
          ]
        }
      ]
    }
  ]
}